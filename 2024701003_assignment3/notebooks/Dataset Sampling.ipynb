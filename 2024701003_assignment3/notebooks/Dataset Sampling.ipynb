{
 "cells": [
  {
   "cell_type": "code",
   "execution_count": 77,
   "id": "a5787058",
   "metadata": {},
   "outputs": [],
   "source": [
    "import pandas as pd"
   ]
  },
  {
   "cell_type": "code",
   "execution_count": 65,
   "id": "49e02c33",
   "metadata": {},
   "outputs": [],
   "source": [
    "df = pd.read_csv('/Users/srivatsasinha/Desktop/assignment/anlp-monsoon-24/dataset/cnn_dailymail/validation.csv')"
   ]
  },
  {
   "cell_type": "code",
   "execution_count": 66,
   "id": "3597fad1",
   "metadata": {},
   "outputs": [
    {
     "data": {
      "text/html": [
       "<div>\n",
       "<style scoped>\n",
       "    .dataframe tbody tr th:only-of-type {\n",
       "        vertical-align: middle;\n",
       "    }\n",
       "\n",
       "    .dataframe tbody tr th {\n",
       "        vertical-align: top;\n",
       "    }\n",
       "\n",
       "    .dataframe thead th {\n",
       "        text-align: right;\n",
       "    }\n",
       "</style>\n",
       "<table border=\"1\" class=\"dataframe\">\n",
       "  <thead>\n",
       "    <tr style=\"text-align: right;\">\n",
       "      <th></th>\n",
       "      <th>id</th>\n",
       "      <th>article</th>\n",
       "      <th>highlights</th>\n",
       "    </tr>\n",
       "  </thead>\n",
       "  <tbody>\n",
       "    <tr>\n",
       "      <th>0</th>\n",
       "      <td>61df4979ac5fcc2b71be46ed6fe5a46ce7f071c3</td>\n",
       "      <td>Sally Forrest, an actress-dancer who graced th...</td>\n",
       "      <td>Sally Forrest, an actress-dancer who graced th...</td>\n",
       "    </tr>\n",
       "    <tr>\n",
       "      <th>1</th>\n",
       "      <td>21c0bd69b7e7df285c3d1b1cf56d4da925980a68</td>\n",
       "      <td>A middle-school teacher in China has inked hun...</td>\n",
       "      <td>Works include pictures of Presidential Palace ...</td>\n",
       "    </tr>\n",
       "    <tr>\n",
       "      <th>2</th>\n",
       "      <td>56f340189cd128194b2e7cb8c26bb900e3a848b4</td>\n",
       "      <td>A man convicted of killing the father and sist...</td>\n",
       "      <td>Iftekhar Murtaza, 29, was convicted a year ago...</td>\n",
       "    </tr>\n",
       "    <tr>\n",
       "      <th>3</th>\n",
       "      <td>00a665151b89a53e5a08a389df8334f4106494c2</td>\n",
       "      <td>Avid rugby fan Prince Harry could barely watch...</td>\n",
       "      <td>Prince Harry in attendance for England's crunc...</td>\n",
       "    </tr>\n",
       "    <tr>\n",
       "      <th>4</th>\n",
       "      <td>9f6fbd3c497c4d28879bebebea220884f03eb41a</td>\n",
       "      <td>A Triple M Radio producer has been inundated w...</td>\n",
       "      <td>Nick Slater's colleagues uploaded a picture to...</td>\n",
       "    </tr>\n",
       "  </tbody>\n",
       "</table>\n",
       "</div>"
      ],
      "text/plain": [
       "                                         id  \\\n",
       "0  61df4979ac5fcc2b71be46ed6fe5a46ce7f071c3   \n",
       "1  21c0bd69b7e7df285c3d1b1cf56d4da925980a68   \n",
       "2  56f340189cd128194b2e7cb8c26bb900e3a848b4   \n",
       "3  00a665151b89a53e5a08a389df8334f4106494c2   \n",
       "4  9f6fbd3c497c4d28879bebebea220884f03eb41a   \n",
       "\n",
       "                                             article  \\\n",
       "0  Sally Forrest, an actress-dancer who graced th...   \n",
       "1  A middle-school teacher in China has inked hun...   \n",
       "2  A man convicted of killing the father and sist...   \n",
       "3  Avid rugby fan Prince Harry could barely watch...   \n",
       "4  A Triple M Radio producer has been inundated w...   \n",
       "\n",
       "                                          highlights  \n",
       "0  Sally Forrest, an actress-dancer who graced th...  \n",
       "1  Works include pictures of Presidential Palace ...  \n",
       "2  Iftekhar Murtaza, 29, was convicted a year ago...  \n",
       "3  Prince Harry in attendance for England's crunc...  \n",
       "4  Nick Slater's colleagues uploaded a picture to...  "
      ]
     },
     "execution_count": 66,
     "metadata": {},
     "output_type": "execute_result"
    }
   ],
   "source": [
    "df.head()"
   ]
  },
  {
   "cell_type": "code",
   "execution_count": 67,
   "id": "9705877c",
   "metadata": {},
   "outputs": [
    {
     "name": "stdout",
     "output_type": "stream",
     "text": [
      "<class 'pandas.core.frame.DataFrame'>\n",
      "RangeIndex: 13368 entries, 0 to 13367\n",
      "Data columns (total 3 columns):\n",
      " #   Column      Non-Null Count  Dtype \n",
      "---  ------      --------------  ----- \n",
      " 0   id          13368 non-null  object\n",
      " 1   article     13368 non-null  object\n",
      " 2   highlights  13368 non-null  object\n",
      "dtypes: object(3)\n",
      "memory usage: 313.4+ KB\n"
     ]
    }
   ],
   "source": [
    "df.info()"
   ]
  },
  {
   "cell_type": "code",
   "execution_count": 68,
   "id": "8e45ce9a",
   "metadata": {},
   "outputs": [],
   "source": [
    "train_articles = df['article'].to_list()"
   ]
  },
  {
   "cell_type": "code",
   "execution_count": 26,
   "id": "00007d42",
   "metadata": {
    "scrolled": true
   },
   "outputs": [
    {
     "data": {
      "text/plain": [
       "1"
      ]
     },
     "execution_count": 26,
     "metadata": {},
     "output_type": "execute_result"
    }
   ],
   "source": [
    "from transformers import GPTNeoForCausalLM, GPT2Tokenizer\n",
    "\n",
    "model = GPTNeoForCausalLM.from_pretrained(\"EleutherAI/gpt-neo-125m\")\n",
    "tokenizer = GPT2Tokenizer.from_pretrained(\"EleutherAI/gpt-neo-125m\")\n",
    "tokenizer.add_special_tokens({'pad_token': '[PAD]'})\n",
    "\n",
    "#print(model)"
   ]
  },
  {
   "cell_type": "code",
   "execution_count": 69,
   "id": "a2b3a26a",
   "metadata": {},
   "outputs": [],
   "source": [
    "tokenised_train_articles = tokenizer(train_articles)"
   ]
  },
  {
   "cell_type": "code",
   "execution_count": 70,
   "id": "a360653b",
   "metadata": {},
   "outputs": [
    {
     "name": "stdout",
     "output_type": "stream",
     "text": [
      "80th percentile of sequence lengths: 1177.6000000000004\n",
      "Number of sequences with length <= 80th percentile: 10694\n"
     ]
    }
   ],
   "source": [
    "import numpy as np\n",
    "\n",
    "\n",
    "# Step 1: Compute lengths of each sublist\n",
    "lengths = [len(sublist) for sublist in tokenised_train_articles['input_ids']]\n",
    "percentile = 80\n",
    "# Step 2: Find the 90th percentile of lengths\n",
    "percentile_90 = np.percentile(lengths, percentile)\n",
    "\n",
    "# Step 3: Count how many sequences have length <= 90th percentile\n",
    "count = sum(1 for length in lengths if length <= percentile_90)\n",
    "\n",
    "print(f\"{percentile}th percentile of sequence lengths: {percentile_90}\")\n",
    "print(f\"Number of sequences with length <= {percentile}th percentile: {count}\")\n"
   ]
  },
  {
   "cell_type": "code",
   "execution_count": 55,
   "id": "dd27ac63",
   "metadata": {},
   "outputs": [],
   "source": [
    "lengths = [len(sublist) for sublist in tokenised_train_articles['input_ids']]"
   ]
  },
  {
   "cell_type": "code",
   "execution_count": 71,
   "id": "b430778d",
   "metadata": {},
   "outputs": [
    {
     "data": {
      "text/plain": [
       "2491"
      ]
     },
     "execution_count": 71,
     "metadata": {},
     "output_type": "execute_result"
    }
   ],
   "source": [
    "max(lengths)"
   ]
  },
  {
   "cell_type": "code",
   "execution_count": 72,
   "id": "5b86d54c",
   "metadata": {},
   "outputs": [
    {
     "name": "stdout",
     "output_type": "stream",
     "text": [
      "9319\n"
     ]
    }
   ],
   "source": [
    "# Given length value\n",
    "given_value = 1000\n",
    "\n",
    "# Get indices of sublists whose length is less than the given value\n",
    "indices = [i for i, sublist in enumerate(tokenised_train_articles['input_ids']) if len(sublist) < given_value]\n",
    "\n",
    "# Display the indices\n",
    "#print(f\"Indices of sublists with length less than {given_value}: {indices}\")\n",
    "print(len(indices))"
   ]
  },
  {
   "cell_type": "code",
   "execution_count": 73,
   "id": "74c920ee",
   "metadata": {},
   "outputs": [],
   "source": [
    "# Number of indices to sample\n",
    "N = 9319\n",
    "\n",
    "# Step 1: Randomly sample N indices from the given list\n",
    "sampled_indices = np.random.choice(indices, N, replace=False)\n",
    "\n",
    "# Step 2: Fetch corresponding rows from the DataFrame\n",
    "sampled_rows = df.iloc[sampled_indices]\n"
   ]
  },
  {
   "cell_type": "code",
   "execution_count": 75,
   "id": "c1b64b50",
   "metadata": {},
   "outputs": [
    {
     "data": {
      "text/html": [
       "<div>\n",
       "<style scoped>\n",
       "    .dataframe tbody tr th:only-of-type {\n",
       "        vertical-align: middle;\n",
       "    }\n",
       "\n",
       "    .dataframe tbody tr th {\n",
       "        vertical-align: top;\n",
       "    }\n",
       "\n",
       "    .dataframe thead th {\n",
       "        text-align: right;\n",
       "    }\n",
       "</style>\n",
       "<table border=\"1\" class=\"dataframe\">\n",
       "  <thead>\n",
       "    <tr style=\"text-align: right;\">\n",
       "      <th></th>\n",
       "      <th>id</th>\n",
       "      <th>article</th>\n",
       "      <th>highlights</th>\n",
       "    </tr>\n",
       "  </thead>\n",
       "  <tbody>\n",
       "    <tr>\n",
       "      <th>5364</th>\n",
       "      <td>0547f560b663b30b0a61c773a9f4c5b22ef02eca</td>\n",
       "      <td>Guo Hong, 29, always has at least three or fou...</td>\n",
       "      <td>Guo Hong, 29, started off teaching two classes...</td>\n",
       "    </tr>\n",
       "    <tr>\n",
       "      <th>11374</th>\n",
       "      <td>cac38f286a63f492a0052814e46d9b90fd4be45a</td>\n",
       "      <td>Should a man pay for dinner while on a date wi...</td>\n",
       "      <td>Emma Watson tried to pay for meal on date and ...</td>\n",
       "    </tr>\n",
       "    <tr>\n",
       "      <th>2811</th>\n",
       "      <td>82f91be4f41e85592689f6dd4d7d1efc81660d9f</td>\n",
       "      <td>Wallis Simpson ordered a top level diplomatic ...</td>\n",
       "      <td>Wallis Simpson made diplomats fetch her swimsu...</td>\n",
       "    </tr>\n",
       "    <tr>\n",
       "      <th>8508</th>\n",
       "      <td>b371218b25641df4e1bfe6f392891bd3626bbdce</td>\n",
       "      <td>Spencer Robinson, 36 was arrested after he all...</td>\n",
       "      <td>Utah police said Spencer Robinson, 36, told th...</td>\n",
       "    </tr>\n",
       "    <tr>\n",
       "      <th>8862</th>\n",
       "      <td>803c7c71969985b7c479425d04efdb9e6eb89d10</td>\n",
       "      <td>Manchester United manager Louis van Gaal has r...</td>\n",
       "      <td>Louis van Gaal has revealed Manchester United ...</td>\n",
       "    </tr>\n",
       "  </tbody>\n",
       "</table>\n",
       "</div>"
      ],
      "text/plain": [
       "                                             id  \\\n",
       "5364   0547f560b663b30b0a61c773a9f4c5b22ef02eca   \n",
       "11374  cac38f286a63f492a0052814e46d9b90fd4be45a   \n",
       "2811   82f91be4f41e85592689f6dd4d7d1efc81660d9f   \n",
       "8508   b371218b25641df4e1bfe6f392891bd3626bbdce   \n",
       "8862   803c7c71969985b7c479425d04efdb9e6eb89d10   \n",
       "\n",
       "                                                 article  \\\n",
       "5364   Guo Hong, 29, always has at least three or fou...   \n",
       "11374  Should a man pay for dinner while on a date wi...   \n",
       "2811   Wallis Simpson ordered a top level diplomatic ...   \n",
       "8508   Spencer Robinson, 36 was arrested after he all...   \n",
       "8862   Manchester United manager Louis van Gaal has r...   \n",
       "\n",
       "                                              highlights  \n",
       "5364   Guo Hong, 29, started off teaching two classes...  \n",
       "11374  Emma Watson tried to pay for meal on date and ...  \n",
       "2811   Wallis Simpson made diplomats fetch her swimsu...  \n",
       "8508   Utah police said Spencer Robinson, 36, told th...  \n",
       "8862   Louis van Gaal has revealed Manchester United ...  "
      ]
     },
     "execution_count": 75,
     "metadata": {},
     "output_type": "execute_result"
    }
   ],
   "source": [
    "sampled_rows.head()"
   ]
  },
  {
   "cell_type": "code",
   "execution_count": 41,
   "id": "b4e43d48",
   "metadata": {},
   "outputs": [],
   "source": [
    "tokenised_train_articles_sampled = tokenizer(sampled_rows['article'].to_list(),padding='max_length',max_length=1000)"
   ]
  },
  {
   "cell_type": "code",
   "execution_count": 44,
   "id": "01c19279",
   "metadata": {},
   "outputs": [
    {
     "data": {
      "text/plain": [
       "1000"
      ]
     },
     "execution_count": 44,
     "metadata": {},
     "output_type": "execute_result"
    }
   ],
   "source": [
    "len(tokenised_train_articles_sampled['attention_mask'][0])"
   ]
  },
  {
   "cell_type": "code",
   "execution_count": 76,
   "id": "d4e7439e",
   "metadata": {},
   "outputs": [],
   "source": [
    "sampled_rows.to_csv('/Users/srivatsasinha/Desktop/assignment/anlp-monsoon-24/dataset/cnn_dailymail/validation_sampled.csv')"
   ]
  },
  {
   "cell_type": "code",
   "execution_count": null,
   "id": "6454573a",
   "metadata": {},
   "outputs": [],
   "source": []
  }
 ],
 "metadata": {
  "kernelspec": {
   "display_name": "Python 3 (ipykernel)",
   "language": "python",
   "name": "python3"
  },
  "language_info": {
   "codemirror_mode": {
    "name": "ipython",
    "version": 3
   },
   "file_extension": ".py",
   "mimetype": "text/x-python",
   "name": "python",
   "nbconvert_exporter": "python",
   "pygments_lexer": "ipython3",
   "version": "3.11.5"
  }
 },
 "nbformat": 4,
 "nbformat_minor": 5
}
