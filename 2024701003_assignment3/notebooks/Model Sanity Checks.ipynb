{
 "cells": [
  {
   "cell_type": "code",
   "execution_count": 1,
   "id": "5510c3e6",
   "metadata": {},
   "outputs": [
    {
     "name": "stderr",
     "output_type": "stream",
     "text": [
      "/Users/srivatsasinha/anaconda3/lib/python3.11/site-packages/transformers/utils/generic.py:260: FutureWarning: `torch.utils._pytree._register_pytree_node` is deprecated. Please use `torch.utils._pytree.register_pytree_node` instead.\n",
      "  torch.utils._pytree._register_pytree_node(\n"
     ]
    }
   ],
   "source": [
    "%load_ext autoreload\n",
    "%autoreload 2\n",
    "\n",
    "import os\n",
    "import sys\n",
    "import torch\n",
    "parent_dir = '/Users/srivatsasinha/Desktop/assignment/anlp-monsoon-24/2024701003_assignment3'\n",
    "if parent_dir not in sys.path:\n",
    "    sys.path.append(parent_dir)\n",
    "\n",
    "from transformers import GPTNeoForCausalLM, GPT2Tokenizer\n",
    "from datasets import Dataset\n",
    "from models.summarisation_model import SummarisationModelWithSoftPrompt,PromptTuningConfig"
   ]
  },
  {
   "cell_type": "code",
   "execution_count": 2,
   "id": "cb104701",
   "metadata": {},
   "outputs": [
    {
     "data": {
      "text/plain": [
       "1"
      ]
     },
     "execution_count": 2,
     "metadata": {},
     "output_type": "execute_result"
    }
   ],
   "source": [
    "model = GPTNeoForCausalLM.from_pretrained(\"EleutherAI/gpt-neo-125m\").to('mps')\n",
    "tokenizer = GPT2Tokenizer.from_pretrained(\"EleutherAI/gpt-neo-125m\")\n",
    "tokenizer.add_special_tokens({'pad_token': '[PAD]'})"
   ]
  },
  {
   "cell_type": "code",
   "execution_count": 3,
   "id": "9f8f1b2e",
   "metadata": {},
   "outputs": [
    {
     "data": {
      "text/plain": [
       "'mps'"
      ]
     },
     "execution_count": 3,
     "metadata": {},
     "output_type": "execute_result"
    }
   ],
   "source": [
    "model.device.type"
   ]
  },
  {
   "cell_type": "code",
   "execution_count": 4,
   "id": "09dd0320",
   "metadata": {},
   "outputs": [],
   "source": [
    "config = PromptTuningConfig(\n",
    "    initial_prompt = \"Summarise the following: \",\n",
    "    tokeniser = tokenizer\n",
    ")\n",
    "trainable_model = SummarisationModelWithSoftPrompt(model,config).to('mps')"
   ]
  },
  {
   "cell_type": "code",
   "execution_count": 5,
   "id": "ae3a3149",
   "metadata": {},
   "outputs": [],
   "source": [
    "dataset_train = Dataset.load_from_disk('/Users/srivatsasinha/Desktop/assignment/anlp-monsoon-24/dataset/cnn_dailymail/hf_train.data')"
   ]
  },
  {
   "cell_type": "code",
   "execution_count": null,
   "id": "8d7b809f",
   "metadata": {},
   "outputs": [],
   "source": [
    "with torch.no_grad():\n",
    "    output = trainable_model(input_ids=torch.tensor(dataset_train['input_ids'][0:2]).to('mps'),attention_mask=torch.tensor(dataset_train['attention_mask'][0:2]).to('mps'),labels=torch.tensor(dataset_train['labels'][0:2]).to('mps'))\n"
   ]
  },
  {
   "cell_type": "code",
   "execution_count": null,
   "id": "66bbc416",
   "metadata": {},
   "outputs": [],
   "source": []
  }
 ],
 "metadata": {
  "kernelspec": {
   "display_name": "Python 3 (ipykernel)",
   "language": "python",
   "name": "python3"
  },
  "language_info": {
   "codemirror_mode": {
    "name": "ipython",
    "version": 3
   },
   "file_extension": ".py",
   "mimetype": "text/x-python",
   "name": "python",
   "nbconvert_exporter": "python",
   "pygments_lexer": "ipython3",
   "version": "3.11.5"
  }
 },
 "nbformat": 4,
 "nbformat_minor": 5
}
